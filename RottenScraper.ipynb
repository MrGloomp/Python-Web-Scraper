{
 "cells": [
  {
   "cell_type": "code",
   "execution_count": 67,
   "id": "26830fca",
   "metadata": {},
   "outputs": [],
   "source": [
    "from bs4 import BeautifulSoup\n",
    "import re\n",
    "import time\n",
    "import requests\n",
    "import csv\n",
    "\n",
    "def scrape(url):\n",
    "    \n",
    "    output=open('reviews.csv', 'w', encoding='utf8')\n",
    "    \n",
    "    writer=csv.writer(output,lineterminator='\\n')\n",
    "    \n",
    "    for i in range(5):\n",
    "        response=requests.get(url, headers={'User-Agent': 'Mozilla/5.0 (Windows NT 6.1) AppleWebKit/537.36 (KHTML, like Gecko) Chrome/41.0.2228.0 Safari/537.36', })\n",
    "        if response:\n",
    "            break\n",
    "        else:\n",
    "            print('fail',i)\n",
    "            time.sleep(5)\n",
    "            \n",
    "    if not response: \n",
    "        return None\n",
    "    \n",
    "    html=response.text\n",
    "    soup=BeautifulSoup(html,'html')\n",
    "    \n",
    "    reviews=soup.findAll('li',{'class':re.compile('audience-reviews')})\n",
    "    for review in reviews:\n",
    "        \n",
    "        critic,rate,date,text='NA','NA','NA','NA'\n",
    "        criticChunk=review.find('span', {'class':'audience-reviews__name'})\n",
    "        if criticChunk:\n",
    "            critic=criticChunk.text.strip()\n",
    "            \n",
    "        rateChunk=review.find('span',{'class':'audience-reviews__score'})\n",
    "        if rateChunk:\n",
    "            stars_filled=rateChunk.findAll('span',{'class':('star-display__filled')})\n",
    "            stars_half=rateChunk.findAll('span',{'class':('star-display__half')})   \n",
    "            rate=len(stars_filled)+(len(stars_half)/2)\n",
    "            \n",
    "        dateChunk=review.find('span',{'class':'audience-reviews__duration'})\n",
    "        if dateChunk:\n",
    "            date=dateChunk.text.strip()\n",
    "        \n",
    "        textChunk=review.find('p',{'class':'audience-reviews__review js-review-text clamp clamp-8 js-clamp'})\n",
    "        if textChunk:\n",
    "            text=textChunk.text.strip()\n",
    "        \n",
    "        writer.writerow([critic,rate,date,text])\n",
    "    \n",
    "    output.close()\n",
    "        "
   ]
  },
  {
   "cell_type": "code",
   "execution_count": 68,
   "id": "d0770b7a",
   "metadata": {},
   "outputs": [],
   "source": [
    "url='https://www.rottentomatoes.com/m/avengers_endgame/reviews?type=verified_audience'\n",
    "scrape(url)"
   ]
  },
  {
   "cell_type": "code",
   "execution_count": null,
   "id": "6e7ab1be",
   "metadata": {},
   "outputs": [],
   "source": []
  }
 ],
 "metadata": {
  "kernelspec": {
   "display_name": "Python 3 (ipykernel)",
   "language": "python",
   "name": "python3"
  },
  "language_info": {
   "codemirror_mode": {
    "name": "ipython",
    "version": 3
   },
   "file_extension": ".py",
   "mimetype": "text/x-python",
   "name": "python",
   "nbconvert_exporter": "python",
   "pygments_lexer": "ipython3",
   "version": "3.10.9"
  }
 },
 "nbformat": 4,
 "nbformat_minor": 5
}
